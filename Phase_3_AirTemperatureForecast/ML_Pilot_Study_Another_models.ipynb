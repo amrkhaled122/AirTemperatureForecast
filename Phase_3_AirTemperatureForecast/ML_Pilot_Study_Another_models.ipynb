{
  "cells": [
    {
      "cell_type": "markdown",
      "metadata": {
        "id": "d9E2a5zZOZXd"
      },
      "source": [
        "# **Loading the PreProcessed Dataset**"
      ]
    },
    {
      "cell_type": "code",
      "execution_count": null,
      "metadata": {
        "colab": {
          "base_uri": "https://localhost:8080/"
        },
        "id": "yDK65jxNvbmS",
        "outputId": "b8c4f6c9-3ddc-4338-a6a6-4d2c6c69dbcd"
      },
      "outputs": [
        {
          "name": "stdout",
          "output_type": "stream",
          "text": [
            "Mounted at /content/drive\n"
          ]
        }
      ],
      "source": [
        "from google.colab import drive\n",
        "drive.mount('/content/drive')"
      ]
    },
    {
      "cell_type": "code",
      "execution_count": null,
      "metadata": {
        "colab": {
          "base_uri": "https://localhost:8080/"
        },
        "id": "Mp6n5skTxMDL",
        "outputId": "59124bb3-8c1d-409a-8dfa-2dca2044ef78"
      },
      "outputs": [
        {
          "name": "stdout",
          "output_type": "stream",
          "text": [
            "Head of the dataset:\n",
            "       hour  Amount of precipitation in millimeters (last hour)  \\\n",
            "0  1.372398                                          -0.149752    \n",
            "1  1.516861                                          -0.149752    \n",
            "2  1.661324                                          -0.149752    \n",
            "3 -1.661325                                          -0.149752    \n",
            "4 -1.516862                                          -0.149752    \n",
            "\n",
            "   Atmospheric pressure at station level (mb)  \\\n",
            "0                                    0.561579   \n",
            "1                                    0.573018   \n",
            "2                                    0.630215   \n",
            "3                                    0.675972   \n",
            "4                                    0.727449   \n",
            "\n",
            "   Maximum air pressure for the last hour in hPa to tenths  \\\n",
            "0                                           0.553969         \n",
            "1                                           0.553969         \n",
            "2                                           0.611175         \n",
            "3                                           0.656939         \n",
            "4                                           0.708424         \n",
            "\n",
            "   Minimum air pressure for the last hour in hPa to tenths  \\\n",
            "0                                           0.581390         \n",
            "1                                           0.575669         \n",
            "2                                           0.592832         \n",
            "3                                           0.655764         \n",
            "4                                           0.695811         \n",
            "\n",
            "   Solar radiation KJ/m2  Air temperature (instant) in celsius degrees  \\\n",
            "0              -0.282262                                          29.4   \n",
            "1              -0.401224                                          26.9   \n",
            "2              -0.400182                                          25.5   \n",
            "3              -0.399140                                          25.0   \n",
            "4              -0.398098                                          24.7   \n",
            "\n",
            "   Dew point temperature (instant) in celsius degrees  \\\n",
            "0                                           0.520993    \n",
            "1                                           0.815565    \n",
            "2                                           0.756651    \n",
            "3                                           0.756651    \n",
            "4                                           0.638822    \n",
            "\n",
            "   Maximum dew point temperature for the last hour in celsius degrees  \\\n",
            "0                                           0.424569                    \n",
            "1                                           0.710917                    \n",
            "2                                           0.653647                    \n",
            "3                                           0.653647                    \n",
            "4                                           0.596378                    \n",
            "\n",
            "   Minimum dew point temperature for the last hour in celsius degrees  ...  \\\n",
            "0                                           0.518802                   ...   \n",
            "1                                           0.576923                   ...   \n",
            "2                                           0.664105                   ...   \n",
            "3                                           0.838469                   ...   \n",
            "4                                           0.780348                   ...   \n",
            "\n",
            "       year     month       day  state_AC  state_AM  state_AP  state_PA  \\\n",
            "0 -3.687455 -0.433772 -0.766742         0         1         0         0   \n",
            "1 -3.687455 -0.433772 -0.766742         0         1         0         0   \n",
            "2 -3.687455 -0.433772 -0.766742         0         1         0         0   \n",
            "3 -3.687455 -0.433772 -0.653101         0         1         0         0   \n",
            "4 -3.687455 -0.433772 -0.653101         0         1         0         0   \n",
            "\n",
            "   state_RO  state_RR  state_TO  \n",
            "0         0         0         0  \n",
            "1         0         0         0  \n",
            "2         0         0         0  \n",
            "3         0         0         0  \n",
            "4         0         0         0  \n",
            "\n",
            "[5 rows x 29 columns]\n",
            "8392299\n"
          ]
        }
      ],
      "source": [
        "import pandas as pd\n",
        "\n",
        "# Load the dataset\n",
        "file_path = 'north_Final.csv'\n",
        "df = pd.read_csv(file_path)\n",
        "print(\"Head of the dataset:\")\n",
        "print(df.head())\n",
        "print(df.shape[0])"
      ]
    },
    {
      "cell_type": "markdown",
      "metadata": {
        "id": "3YqDWKhTRcLF"
      },
      "source": [
        "# **4.Random Forests Regressor Model**"
      ]
    },
    {
      "cell_type": "markdown",
      "metadata": {
        "id": "sqXbG3xZISmV"
      },
      "source": [
        "### **to utilize GPU**"
      ]
    },
    {
      "cell_type": "code",
      "execution_count": 4,
      "metadata": {
        "colab": {
          "base_uri": "https://localhost:8080/"
        },
        "id": "tn4-MDW3XfLn",
        "outputId": "4674346d-eae0-4d5a-a987-7ae117015df0"
      },
      "outputs": [
        {
          "name": "stdout",
          "output_type": "stream",
          "text": [
            "Looking in indexes: https://pypi.org/simple, https://pypi.nvidia.com\n",
            "Collecting cudf-cu11==24.2.*\n",
            "  Downloading https://pypi.nvidia.com/cudf-cu11/cudf_cu11-24.2.2-cp310-cp310-manylinux_2_28_x86_64.whl (460.9 MB)\n",
            "\u001b[2K     \u001b[90m━━━━━━━━━━━━━━━━━━━━━━━━━━━━━━━━━━━━━━━\u001b[0m \u001b[32m460.9/460.9 MB\u001b[0m \u001b[31m1.9 MB/s\u001b[0m eta \u001b[36m0:00:00\u001b[0m00:01\u001b[0m00:07\u001b[0m\n",
            "\u001b[?25hCollecting dask-cudf-cu11==24.2.*\n",
            "  Downloading https://pypi.nvidia.com/dask-cudf-cu11/dask_cudf_cu11-24.2.2-py3-none-any.whl (45 kB)\n",
            "\u001b[2K     \u001b[90m━━━━━━━━━━━━━━━━━━━━━━━━━━━━━━━━━━━━━━━━\u001b[0m \u001b[32m45.1/45.1 kB\u001b[0m \u001b[31m3.2 MB/s\u001b[0m eta \u001b[36m0:00:00\u001b[0m\n",
            "\u001b[?25hCollecting cuml-cu11==24.2.*\n",
            "  Downloading https://pypi.nvidia.com/cuml-cu11/cuml_cu11-24.2.0-cp310-cp310-manylinux_2_17_x86_64.manylinux2014_x86_64.whl (1206.1 MB)\n",
            "\u001b[2K     \u001b[90m━━━━━━━━━━━━━━━━━━━━━━━━━━━━━━━━━━━━━━━━\u001b[0m \u001b[32m1.2/1.2 GB\u001b[0m \u001b[31m1.5 MB/s\u001b[0m eta \u001b[36m0:00:00\u001b[0m00:01\u001b[0m00:16\u001b[0m\n",
            "\u001b[?25hCollecting cugraph-cu11==24.2.*\n",
            "  Downloading https://pypi.nvidia.com/cugraph-cu11/cugraph_cu11-24.2.0-cp310-cp310-manylinux_2_17_x86_64.manylinux2014_x86_64.whl (1411.7 MB)\n",
            "\u001b[2K     \u001b[90m━━━━━━━━━━━━━━━━━━━━━━━━━━━━━━━━━━━━━━━━\u001b[0m \u001b[32m1.4/1.4 GB\u001b[0m \u001b[31m1.4 MB/s\u001b[0m eta \u001b[36m0:00:00\u001b[0m00:01\u001b[0m00:18\u001b[0m\n",
            "\u001b[?25hCollecting cuspatial-cu11==24.2.*\n",
            "  Downloading https://pypi.nvidia.com/cuspatial-cu11/cuspatial_cu11-24.2.0-cp310-cp310-manylinux_2_17_x86_64.manylinux2014_x86_64.whl (130.7 MB)\n",
            "\u001b[2K     \u001b[90m━━━━━━━━━━━━━━━━━━━━━━━━━━━━━━━━━━━━━━━\u001b[0m \u001b[32m130.7/130.7 MB\u001b[0m \u001b[31m1.9 MB/s\u001b[0m eta \u001b[36m0:00:00\u001b[0m00:01\u001b[0m00:02\u001b[0m\n",
            "\u001b[?25hCollecting cuproj-cu11==24.2.*\n",
            "  Downloading https://pypi.nvidia.com/cuproj-cu11/cuproj_cu11-24.2.0-cp310-cp310-manylinux_2_17_x86_64.manylinux2014_x86_64.whl (948 kB)\n",
            "\u001b[2K     \u001b[90m━━━━━━━━━━━━━━━━━━━━━━━━━━━━━━━━━━━━━━━\u001b[0m \u001b[32m948.2/948.2 kB\u001b[0m \u001b[31m2.6 MB/s\u001b[0m eta \u001b[36m0:00:00\u001b[0ma \u001b[36m0:00:01\u001b[0m\n",
            "\u001b[?25hCollecting cuxfilter-cu11==24.2.*\n",
            "  Downloading https://pypi.nvidia.com/cuxfilter-cu11/cuxfilter_cu11-24.2.0-py3-none-any.whl (83 kB)\n",
            "\u001b[2K     \u001b[90m━━━━━━━━━━━━━━━━━━━━━━━━━━━━━━━━━━━━━━━━\u001b[0m \u001b[32m83.2/83.2 kB\u001b[0m \u001b[31m14.5 MB/s\u001b[0m eta \u001b[36m0:00:00\u001b[0m\n",
            "\u001b[?25hCollecting cucim-cu11==24.2.*\n",
            "  Downloading https://pypi.nvidia.com/cucim-cu11/cucim_cu11-24.2.0-cp310-cp310-manylinux_2_17_x86_64.manylinux2014_x86_64.whl (5.7 MB)\n",
            "\u001b[2K     \u001b[90m━━━━━━━━━━━━━━━━━━━━━━━━━━━━━━━━━━━━━━━━\u001b[0m \u001b[32m5.7/5.7 MB\u001b[0m \u001b[31m1.8 MB/s\u001b[0m eta \u001b[36m0:00:00\u001b[0m00:01\u001b[0m00:01\u001b[0m\n",
            "\u001b[?25hCollecting pylibraft-cu11==24.2.*\n",
            "  Downloading https://pypi.nvidia.com/pylibraft-cu11/pylibraft_cu11-24.2.0-cp310-cp310-manylinux_2_17_x86_64.manylinux2014_x86_64.whl (687.8 MB)\n",
            "\u001b[2K     \u001b[90m━━━━━━━━━━━━━━━━━━━━━━━━━━━━━━━━━━━━━━━\u001b[0m \u001b[32m687.8/687.8 MB\u001b[0m \u001b[31m1.6 MB/s\u001b[0m eta \u001b[36m0:00:00\u001b[0m00:01\u001b[0m00:09\u001b[0m\n",
            "\u001b[?25hCollecting raft-dask-cu11==24.2.*\n",
            "  Downloading https://pypi.nvidia.com/raft-dask-cu11/raft_dask_cu11-24.2.0-cp310-cp310-manylinux_2_17_x86_64.manylinux2014_x86_64.whl (214.7 MB)\n",
            "\u001b[2K     \u001b[90m━━━━━━━━━━━━━━━━━━━━━━━━━━━━━━━━━━━━━━━\u001b[0m \u001b[32m214.7/214.7 MB\u001b[0m \u001b[31m1.9 MB/s\u001b[0m eta \u001b[36m0:00:00\u001b[0m00:01\u001b[0m00:03\u001b[0m\n",
            "\u001b[?25hCollecting cuda-python<12.0a0,>=11.7.1\n",
            "  Downloading cuda_python-11.8.3-cp310-cp310-manylinux_2_17_x86_64.manylinux2014_x86_64.whl (18.7 MB)\n",
            "\u001b[2K     \u001b[90m━━━━━━━━━━━━━━━━━━━━━━━━━━━━━━━━━━━━━━━━\u001b[0m \u001b[32m18.7/18.7 MB\u001b[0m \u001b[31m1.7 MB/s\u001b[0m eta \u001b[36m0:00:00\u001b[0m00:01\u001b[0m00:01\u001b[0m\n",
            "\u001b[?25hRequirement already satisfied: fsspec>=0.6.0 in ./venv/lib/python3.10/site-packages (from cudf-cu11==24.2.*) (2024.3.1)\n",
            "Requirement already satisfied: pyarrow<15.0.0a0,>=14.0.1 in ./venv/lib/python3.10/site-packages (from cudf-cu11==24.2.*) (14.0.2)\n",
            "Collecting rmm-cu11==24.2.*\n",
            "  Downloading https://pypi.nvidia.com/rmm-cu11/rmm_cu11-24.2.0-cp310-cp310-manylinux_2_17_x86_64.manylinux2014_x86_64.whl (1.7 MB)\n",
            "\u001b[2K     \u001b[90m━━━━━━━━━━━━━━━━━━━━━━━━━━━━━━━━━━━━━━━━\u001b[0m \u001b[32m1.7/1.7 MB\u001b[0m \u001b[31m2.0 MB/s\u001b[0m eta \u001b[36m0:00:00\u001b[0ma \u001b[36m0:00:01\u001b[0m0m\n",
            "\u001b[?25hRequirement already satisfied: pandas<1.6.0dev0,>=1.3 in ./venv/lib/python3.10/site-packages (from cudf-cu11==24.2.*) (1.5.3)\n",
            "Collecting cubinlinker-cu11\n",
            "  Downloading https://pypi.nvidia.com/cubinlinker-cu11/cubinlinker_cu11-0.3.0.post1-cp310-cp310-manylinux_2_17_x86_64.manylinux2014_x86_64.whl (8.8 MB)\n",
            "\u001b[2K     \u001b[90m━━━━━━━━━━━━━━━━━━━━━━━━━━━━━━━━━━━━━━━━\u001b[0m \u001b[32m8.8/8.8 MB\u001b[0m \u001b[31m2.0 MB/s\u001b[0m eta \u001b[36m0:00:00\u001b[0m00:01\u001b[0m00:01\u001b[0m\n",
            "\u001b[?25hRequirement already satisfied: nvtx>=0.2.1 in ./venv/lib/python3.10/site-packages (from cudf-cu11==24.2.*) (0.2.10)\n",
            "Requirement already satisfied: packaging in ./venv/lib/python3.10/site-packages (from cudf-cu11==24.2.*) (24.0)\n",
            "Collecting cupy-cuda11x>=12.0.0\n",
            "  Downloading cupy_cuda11x-13.0.0-cp310-cp310-manylinux2014_x86_64.whl (95.3 MB)\n",
            "\u001b[2K     \u001b[90m━━━━━━━━━━━━━━━━━━━━━━━━━━━━━━━━━━━━━━━━\u001b[0m \u001b[32m95.3/95.3 MB\u001b[0m \u001b[31m2.0 MB/s\u001b[0m eta \u001b[36m0:00:00\u001b[0m00:01\u001b[0m00:02\u001b[0m\n",
            "\u001b[?25hRequirement already satisfied: numpy<1.25,>=1.21 in ./venv/lib/python3.10/site-packages (from cudf-cu11==24.2.*) (1.24.4)\n",
            "Requirement already satisfied: numba>=0.57 in ./venv/lib/python3.10/site-packages (from cudf-cu11==24.2.*) (0.57.1)\n",
            "Requirement already satisfied: cachetools in ./venv/lib/python3.10/site-packages (from cudf-cu11==24.2.*) (5.3.3)\n",
            "Requirement already satisfied: protobuf<5,>=4.21 in ./venv/lib/python3.10/site-packages (from cudf-cu11==24.2.*) (4.25.3)\n",
            "Collecting ptxcompiler-cu11\n",
            "  Downloading https://pypi.nvidia.com/ptxcompiler-cu11/ptxcompiler_cu11-0.8.1.post1-cp310-cp310-manylinux_2_17_x86_64.manylinux2014_x86_64.whl (8.7 MB)\n",
            "\u001b[2K     \u001b[90m━━━━━━━━━━━━━━━━━━━━━━━━━━━━━━━━━━━━━━━━\u001b[0m \u001b[32m8.7/8.7 MB\u001b[0m \u001b[31m2.0 MB/s\u001b[0m eta \u001b[36m0:00:00\u001b[0m00:01\u001b[0m00:01\u001b[0m\n",
            "\u001b[?25hRequirement already satisfied: rich in ./venv/lib/python3.10/site-packages (from cudf-cu11==24.2.*) (13.7.1)\n",
            "Requirement already satisfied: typing_extensions>=4.0.0 in ./venv/lib/python3.10/site-packages (from cudf-cu11==24.2.*) (4.11.0)\n",
            "Collecting rapids-dask-dependency==24.2.*\n",
            "  Downloading https://pypi.nvidia.com/rapids-dask-dependency/rapids_dask_dependency-24.2.0-py3-none-any.whl (6.4 kB)\n",
            "Requirement already satisfied: joblib>=0.11 in ./venv/lib/python3.10/site-packages (from cuml-cu11==24.2.*) (1.3.2)\n",
            "Requirement already satisfied: scipy>=1.8.0 in ./venv/lib/python3.10/site-packages (from cuml-cu11==24.2.*) (1.13.0)\n",
            "Collecting dask-cuda==24.2.*\n",
            "  Downloading dask_cuda-24.2.0-py3-none-any.whl (126 kB)\n",
            "\u001b[2K     \u001b[90m━━━━━━━━━━━━━━━━━━━━━━━━━━━━━━━━━━━━━━━\u001b[0m \u001b[32m126.5/126.5 kB\u001b[0m \u001b[31m2.8 MB/s\u001b[0m eta \u001b[36m0:00:00\u001b[0ma \u001b[36m0:00:01\u001b[0m\n",
            "\u001b[?25hCollecting treelite==4.0.0\n",
            "  Downloading treelite-4.0.0-py3-none-manylinux2014_x86_64.whl (758 kB)\n",
            "\u001b[2K     \u001b[90m━━━━━━━━━━━━━━━━━━━━━━━━━━━━━━━━━━━━━━━\u001b[0m \u001b[32m758.7/758.7 kB\u001b[0m \u001b[31m3.4 MB/s\u001b[0m eta \u001b[36m0:00:00\u001b[0ma \u001b[36m0:00:01\u001b[0m\n",
            "\u001b[?25hCollecting pylibcugraph-cu11==24.2.*\n",
            "  Downloading https://pypi.nvidia.com/pylibcugraph-cu11/pylibcugraph_cu11-24.2.0-cp310-cp310-manylinux_2_17_x86_64.manylinux2014_x86_64.whl (1412.7 MB)\n",
            "\u001b[2K     \u001b[90m━━━━━━━━━━━━━━━━━━━━━━━━━━━━━━━━━━━━━━━━\u001b[0m \u001b[32m1.4/1.4 GB\u001b[0m \u001b[31m1.5 MB/s\u001b[0m eta \u001b[36m0:00:00\u001b[0m00:01\u001b[0m00:18\u001b[0m\n",
            "\u001b[?25hCollecting ucx-py-cu11==0.36.*\n",
            "  Downloading https://pypi.nvidia.com/ucx-py-cu11/ucx_py_cu11-0.36.0-cp310-cp310-manylinux_2_17_x86_64.manylinux2014_x86_64.whl (7.6 MB)\n",
            "\u001b[2K     \u001b[90m━━━━━━━━━━━━━━━━━━━━━━━━━━━━━━━━━━━━━━━━\u001b[0m \u001b[32m7.6/7.6 MB\u001b[0m \u001b[31m2.1 MB/s\u001b[0m eta \u001b[36m0:00:00\u001b[0m00:01\u001b[0m00:01\u001b[0m\n",
            "\u001b[?25hRequirement already satisfied: geopandas>=0.11.0 in ./venv/lib/python3.10/site-packages (from cuspatial-cu11==24.2.*) (0.14.3)\n",
            "Requirement already satisfied: bokeh>=3.1 in ./venv/lib/python3.10/site-packages (from cuxfilter-cu11==24.2.*) (3.4.0)\n",
            "Requirement already satisfied: jupyter-server-proxy in ./venv/lib/python3.10/site-packages (from cuxfilter-cu11==24.2.*) (4.1.2)\n",
            "Requirement already satisfied: datashader>=0.15 in ./venv/lib/python3.10/site-packages (from cuxfilter-cu11==24.2.*) (0.16.0)\n",
            "Requirement already satisfied: holoviews>=1.16.0 in ./venv/lib/python3.10/site-packages (from cuxfilter-cu11==24.2.*) (1.18.3)\n",
            "Requirement already satisfied: panel>=1.0 in ./venv/lib/python3.10/site-packages (from cuxfilter-cu11==24.2.*) (1.4.0)\n",
            "Requirement already satisfied: scikit-image<0.23.0a0,>=0.19.0 in ./venv/lib/python3.10/site-packages (from cucim-cu11==24.2.*) (0.21.0)\n",
            "Requirement already satisfied: lazy-loader>=0.1 in ./venv/lib/python3.10/site-packages (from cucim-cu11==24.2.*) (0.4)\n",
            "Requirement already satisfied: click>=8.1 in ./venv/lib/python3.10/site-packages (from dask-cuda==24.2.*->cuml-cu11==24.2.*) (8.1.7)\n",
            "Requirement already satisfied: zict>=2.0.0 in ./venv/lib/python3.10/site-packages (from dask-cuda==24.2.*->cuml-cu11==24.2.*) (3.0.0)\n",
            "Requirement already satisfied: pynvml<11.5,>=11.0.0 in ./venv/lib/python3.10/site-packages (from dask-cuda==24.2.*->cuml-cu11==24.2.*) (11.4.1)\n",
            "Collecting dask==2024.1.1\n",
            "  Downloading dask-2024.1.1-py3-none-any.whl (1.2 MB)\n",
            "\u001b[2K     \u001b[90m━━━━━━━━━━━━━━━━━━━━━━━━━━━━━━━━━━━━━━━━\u001b[0m \u001b[32m1.2/1.2 MB\u001b[0m \u001b[31m8.6 MB/s\u001b[0m eta \u001b[36m0:00:00\u001b[0m00:01\u001b[0m00:01\u001b[0m\n",
            "\u001b[?25hCollecting distributed==2024.1.1\n",
            "  Downloading distributed-2024.1.1-py3-none-any.whl (1.0 MB)\n",
            "\u001b[2K     \u001b[90m━━━━━━━━━━━━━━━━━━━━━━━━━━━━━━━━━━━━━━━━\u001b[0m \u001b[32m1.0/1.0 MB\u001b[0m \u001b[31m55.7 MB/s\u001b[0m eta \u001b[36m0:00:00\u001b[0m\n",
            "\u001b[?25hRequirement already satisfied: pyyaml>=5.3.1 in ./venv/lib/python3.10/site-packages (from dask==2024.1.1->rapids-dask-dependency==24.2.*->dask-cudf-cu11==24.2.*) (6.0.1)\n",
            "Requirement already satisfied: cloudpickle>=1.5.0 in ./venv/lib/python3.10/site-packages (from dask==2024.1.1->rapids-dask-dependency==24.2.*->dask-cudf-cu11==24.2.*) (3.0.0)\n",
            "Requirement already satisfied: partd>=1.2.0 in ./venv/lib/python3.10/site-packages (from dask==2024.1.1->rapids-dask-dependency==24.2.*->dask-cudf-cu11==24.2.*) (1.4.1)\n",
            "Requirement already satisfied: toolz>=0.10.0 in ./venv/lib/python3.10/site-packages (from dask==2024.1.1->rapids-dask-dependency==24.2.*->dask-cudf-cu11==24.2.*) (0.12.1)\n",
            "Requirement already satisfied: importlib-metadata>=4.13.0 in ./venv/lib/python3.10/site-packages (from dask==2024.1.1->rapids-dask-dependency==24.2.*->dask-cudf-cu11==24.2.*) (7.1.0)\n",
            "Requirement already satisfied: msgpack>=1.0.0 in ./venv/lib/python3.10/site-packages (from distributed==2024.1.1->rapids-dask-dependency==24.2.*->dask-cudf-cu11==24.2.*) (1.0.8)\n",
            "Requirement already satisfied: tblib>=1.6.0 in ./venv/lib/python3.10/site-packages (from distributed==2024.1.1->rapids-dask-dependency==24.2.*->dask-cudf-cu11==24.2.*) (3.0.0)\n",
            "Requirement already satisfied: sortedcontainers>=2.0.5 in ./venv/lib/python3.10/site-packages (from distributed==2024.1.1->rapids-dask-dependency==24.2.*->dask-cudf-cu11==24.2.*) (2.4.0)\n",
            "Requirement already satisfied: tornado>=6.0.4 in ./venv/lib/python3.10/site-packages (from distributed==2024.1.1->rapids-dask-dependency==24.2.*->dask-cudf-cu11==24.2.*) (6.4)\n",
            "Requirement already satisfied: urllib3>=1.24.3 in ./venv/lib/python3.10/site-packages (from distributed==2024.1.1->rapids-dask-dependency==24.2.*->dask-cudf-cu11==24.2.*) (2.2.1)\n",
            "Requirement already satisfied: psutil>=5.7.2 in ./venv/lib/python3.10/site-packages (from distributed==2024.1.1->rapids-dask-dependency==24.2.*->dask-cudf-cu11==24.2.*) (5.9.8)\n",
            "Requirement already satisfied: jinja2>=2.10.3 in ./venv/lib/python3.10/site-packages (from distributed==2024.1.1->rapids-dask-dependency==24.2.*->dask-cudf-cu11==24.2.*) (3.1.3)\n",
            "Requirement already satisfied: locket>=1.0.0 in ./venv/lib/python3.10/site-packages (from distributed==2024.1.1->rapids-dask-dependency==24.2.*->dask-cudf-cu11==24.2.*) (1.0.0)\n",
            "Requirement already satisfied: pillow>=7.1.0 in ./venv/lib/python3.10/site-packages (from bokeh>=3.1->cuxfilter-cu11==24.2.*) (10.3.0)\n",
            "Requirement already satisfied: xyzservices>=2021.09.1 in ./venv/lib/python3.10/site-packages (from bokeh>=3.1->cuxfilter-cu11==24.2.*) (2024.4.0)\n",
            "Requirement already satisfied: contourpy>=1.2 in ./venv/lib/python3.10/site-packages (from bokeh>=3.1->cuxfilter-cu11==24.2.*) (1.2.1)\n",
            "Requirement already satisfied: fastrlock>=0.5 in ./venv/lib/python3.10/site-packages (from cupy-cuda11x>=12.0.0->cudf-cu11==24.2.*) (0.8.2)\n",
            "Requirement already satisfied: colorcet in ./venv/lib/python3.10/site-packages (from datashader>=0.15->cuxfilter-cu11==24.2.*) (3.1.0)\n",
            "Requirement already satisfied: requests in ./venv/lib/python3.10/site-packages (from datashader>=0.15->cuxfilter-cu11==24.2.*) (2.31.0)\n",
            "Requirement already satisfied: pyct in ./venv/lib/python3.10/site-packages (from datashader>=0.15->cuxfilter-cu11==24.2.*) (0.5.0)\n",
            "Requirement already satisfied: param in ./venv/lib/python3.10/site-packages (from datashader>=0.15->cuxfilter-cu11==24.2.*) (2.1.0)\n",
            "Requirement already satisfied: xarray in ./venv/lib/python3.10/site-packages (from datashader>=0.15->cuxfilter-cu11==24.2.*) (2024.3.0)\n",
            "Requirement already satisfied: multipledispatch in ./venv/lib/python3.10/site-packages (from datashader>=0.15->cuxfilter-cu11==24.2.*) (1.0.0)\n",
            "Requirement already satisfied: aiohttp!=4.0.0a0,!=4.0.0a1 in ./venv/lib/python3.10/site-packages (from fsspec>=0.6.0->cudf-cu11==24.2.*) (3.9.3)\n",
            "Requirement already satisfied: shapely>=1.8.0 in ./venv/lib/python3.10/site-packages (from geopandas>=0.11.0->cuspatial-cu11==24.2.*) (2.0.3)\n",
            "Requirement already satisfied: pyproj>=3.3.0 in ./venv/lib/python3.10/site-packages (from geopandas>=0.11.0->cuspatial-cu11==24.2.*) (3.6.1)\n",
            "Requirement already satisfied: fiona>=1.8.21 in ./venv/lib/python3.10/site-packages (from geopandas>=0.11.0->cuspatial-cu11==24.2.*) (1.9.6)\n",
            "Requirement already satisfied: pyviz-comms>=0.7.4 in ./venv/lib/python3.10/site-packages (from holoviews>=1.16.0->cuxfilter-cu11==24.2.*) (3.0.2)\n",
            "Requirement already satisfied: llvmlite<0.41,>=0.40.0dev0 in ./venv/lib/python3.10/site-packages (from numba>=0.57->cudf-cu11==24.2.*) (0.40.1)\n",
            "Requirement already satisfied: python-dateutil>=2.8.1 in ./venv/lib/python3.10/site-packages (from pandas<1.6.0dev0,>=1.3->cudf-cu11==24.2.*) (2.9.0.post0)\n",
            "Requirement already satisfied: pytz>=2020.1 in ./venv/lib/python3.10/site-packages (from pandas<1.6.0dev0,>=1.3->cudf-cu11==24.2.*) (2024.1)\n",
            "Requirement already satisfied: markdown in ./venv/lib/python3.10/site-packages (from panel>=1.0->cuxfilter-cu11==24.2.*) (3.6)\n",
            "Requirement already satisfied: linkify-it-py in ./venv/lib/python3.10/site-packages (from panel>=1.0->cuxfilter-cu11==24.2.*) (2.0.3)\n",
            "Requirement already satisfied: mdit-py-plugins in ./venv/lib/python3.10/site-packages (from panel>=1.0->cuxfilter-cu11==24.2.*) (0.4.0)\n",
            "Requirement already satisfied: tqdm>=4.48.0 in ./venv/lib/python3.10/site-packages (from panel>=1.0->cuxfilter-cu11==24.2.*) (4.66.2)\n",
            "Requirement already satisfied: bleach in ./venv/lib/python3.10/site-packages (from panel>=1.0->cuxfilter-cu11==24.2.*) (6.1.0)\n",
            "Requirement already satisfied: markdown-it-py in ./venv/lib/python3.10/site-packages (from panel>=1.0->cuxfilter-cu11==24.2.*) (3.0.0)\n",
            "Requirement already satisfied: PyWavelets>=1.1.1 in ./venv/lib/python3.10/site-packages (from scikit-image<0.23.0a0,>=0.19.0->cucim-cu11==24.2.*) (1.6.0)\n",
            "Requirement already satisfied: tifffile>=2022.8.12 in ./venv/lib/python3.10/site-packages (from scikit-image<0.23.0a0,>=0.19.0->cucim-cu11==24.2.*) (2024.2.12)\n",
            "Requirement already satisfied: networkx>=2.8 in ./venv/lib/python3.10/site-packages (from scikit-image<0.23.0a0,>=0.19.0->cucim-cu11==24.2.*) (3.3)\n",
            "Requirement already satisfied: imageio>=2.27 in ./venv/lib/python3.10/site-packages (from scikit-image<0.23.0a0,>=0.19.0->cucim-cu11==24.2.*) (2.34.0)\n",
            "Requirement already satisfied: simpervisor>=1.0 in ./venv/lib/python3.10/site-packages (from jupyter-server-proxy->cuxfilter-cu11==24.2.*) (1.0.0)\n",
            "Requirement already satisfied: traitlets>=4.2.1 in ./venv/lib/python3.10/site-packages (from jupyter-server-proxy->cuxfilter-cu11==24.2.*) (5.14.2)\n",
            "Requirement already satisfied: jupyter-server>=1.0 in ./venv/lib/python3.10/site-packages (from jupyter-server-proxy->cuxfilter-cu11==24.2.*) (2.13.0)\n",
            "Requirement already satisfied: pygments<3.0.0,>=2.13.0 in ./venv/lib/python3.10/site-packages (from rich->cudf-cu11==24.2.*) (2.17.2)\n",
            "Requirement already satisfied: attrs>=17.3.0 in ./venv/lib/python3.10/site-packages (from aiohttp!=4.0.0a0,!=4.0.0a1->fsspec>=0.6.0->cudf-cu11==24.2.*) (23.2.0)\n",
            "Requirement already satisfied: frozenlist>=1.1.1 in ./venv/lib/python3.10/site-packages (from aiohttp!=4.0.0a0,!=4.0.0a1->fsspec>=0.6.0->cudf-cu11==24.2.*) (1.4.1)\n",
            "Requirement already satisfied: multidict<7.0,>=4.5 in ./venv/lib/python3.10/site-packages (from aiohttp!=4.0.0a0,!=4.0.0a1->fsspec>=0.6.0->cudf-cu11==24.2.*) (6.0.5)\n",
            "Requirement already satisfied: yarl<2.0,>=1.0 in ./venv/lib/python3.10/site-packages (from aiohttp!=4.0.0a0,!=4.0.0a1->fsspec>=0.6.0->cudf-cu11==24.2.*) (1.9.4)\n",
            "Requirement already satisfied: async-timeout<5.0,>=4.0 in ./venv/lib/python3.10/site-packages (from aiohttp!=4.0.0a0,!=4.0.0a1->fsspec>=0.6.0->cudf-cu11==24.2.*) (4.0.3)\n",
            "Requirement already satisfied: aiosignal>=1.1.2 in ./venv/lib/python3.10/site-packages (from aiohttp!=4.0.0a0,!=4.0.0a1->fsspec>=0.6.0->cudf-cu11==24.2.*) (1.3.1)\n",
            "Requirement already satisfied: certifi in ./venv/lib/python3.10/site-packages (from fiona>=1.8.21->geopandas>=0.11.0->cuspatial-cu11==24.2.*) (2024.2.2)\n",
            "Requirement already satisfied: click-plugins>=1.0 in ./venv/lib/python3.10/site-packages (from fiona>=1.8.21->geopandas>=0.11.0->cuspatial-cu11==24.2.*) (1.1.1)\n",
            "Requirement already satisfied: six in ./venv/lib/python3.10/site-packages (from fiona>=1.8.21->geopandas>=0.11.0->cuspatial-cu11==24.2.*) (1.16.0)\n",
            "Requirement already satisfied: cligj>=0.5 in ./venv/lib/python3.10/site-packages (from fiona>=1.8.21->geopandas>=0.11.0->cuspatial-cu11==24.2.*) (0.7.2)\n",
            "Requirement already satisfied: MarkupSafe>=2.0 in ./venv/lib/python3.10/site-packages (from jinja2>=2.10.3->distributed==2024.1.1->rapids-dask-dependency==24.2.*->dask-cudf-cu11==24.2.*) (2.1.5)\n",
            "Requirement already satisfied: websocket-client in ./venv/lib/python3.10/site-packages (from jupyter-server>=1.0->jupyter-server-proxy->cuxfilter-cu11==24.2.*) (1.7.0)\n",
            "Requirement already satisfied: jupyter-server-terminals in ./venv/lib/python3.10/site-packages (from jupyter-server>=1.0->jupyter-server-proxy->cuxfilter-cu11==24.2.*) (0.5.3)\n",
            "Requirement already satisfied: terminado>=0.8.3 in ./venv/lib/python3.10/site-packages (from jupyter-server>=1.0->jupyter-server-proxy->cuxfilter-cu11==24.2.*) (0.18.1)\n",
            "Requirement already satisfied: argon2-cffi in ./venv/lib/python3.10/site-packages (from jupyter-server>=1.0->jupyter-server-proxy->cuxfilter-cu11==24.2.*) (23.1.0)\n",
            "Requirement already satisfied: nbformat>=5.3.0 in ./venv/lib/python3.10/site-packages (from jupyter-server>=1.0->jupyter-server-proxy->cuxfilter-cu11==24.2.*) (5.10.4)\n",
            "Requirement already satisfied: overrides in ./venv/lib/python3.10/site-packages (from jupyter-server>=1.0->jupyter-server-proxy->cuxfilter-cu11==24.2.*) (7.7.0)\n",
            "Requirement already satisfied: nbconvert>=6.4.4 in ./venv/lib/python3.10/site-packages (from jupyter-server>=1.0->jupyter-server-proxy->cuxfilter-cu11==24.2.*) (7.16.3)\n",
            "Requirement already satisfied: prometheus-client in ./venv/lib/python3.10/site-packages (from jupyter-server>=1.0->jupyter-server-proxy->cuxfilter-cu11==24.2.*) (0.20.0)\n",
            "Requirement already satisfied: send2trash>=1.8.2 in ./venv/lib/python3.10/site-packages (from jupyter-server>=1.0->jupyter-server-proxy->cuxfilter-cu11==24.2.*) (1.8.3)\n",
            "Requirement already satisfied: jupyter-events>=0.9.0 in ./venv/lib/python3.10/site-packages (from jupyter-server>=1.0->jupyter-server-proxy->cuxfilter-cu11==24.2.*) (0.10.0)\n",
            "Requirement already satisfied: jupyter-core!=5.0.*,>=4.12 in ./venv/lib/python3.10/site-packages (from jupyter-server>=1.0->jupyter-server-proxy->cuxfilter-cu11==24.2.*) (5.7.2)\n",
            "Requirement already satisfied: anyio>=3.1.0 in ./venv/lib/python3.10/site-packages (from jupyter-server>=1.0->jupyter-server-proxy->cuxfilter-cu11==24.2.*) (4.3.0)\n",
            "Requirement already satisfied: jupyter-client>=7.4.4 in ./venv/lib/python3.10/site-packages (from jupyter-server>=1.0->jupyter-server-proxy->cuxfilter-cu11==24.2.*) (8.6.1)\n",
            "Requirement already satisfied: pyzmq>=24 in ./venv/lib/python3.10/site-packages (from jupyter-server>=1.0->jupyter-server-proxy->cuxfilter-cu11==24.2.*) (25.1.2)\n",
            "Requirement already satisfied: mdurl~=0.1 in ./venv/lib/python3.10/site-packages (from markdown-it-py->panel>=1.0->cuxfilter-cu11==24.2.*) (0.1.2)\n",
            "Requirement already satisfied: webencodings in ./venv/lib/python3.10/site-packages (from bleach->panel>=1.0->cuxfilter-cu11==24.2.*) (0.5.1)\n",
            "Requirement already satisfied: uc-micro-py in ./venv/lib/python3.10/site-packages (from linkify-it-py->panel>=1.0->cuxfilter-cu11==24.2.*) (1.0.3)\n",
            "Requirement already satisfied: idna<4,>=2.5 in ./venv/lib/python3.10/site-packages (from requests->datashader>=0.15->cuxfilter-cu11==24.2.*) (3.6)\n",
            "Requirement already satisfied: charset-normalizer<4,>=2 in ./venv/lib/python3.10/site-packages (from requests->datashader>=0.15->cuxfilter-cu11==24.2.*) (3.3.2)\n",
            "Requirement already satisfied: sniffio>=1.1 in ./venv/lib/python3.10/site-packages (from anyio>=3.1.0->jupyter-server>=1.0->jupyter-server-proxy->cuxfilter-cu11==24.2.*) (1.3.1)\n",
            "Requirement already satisfied: exceptiongroup>=1.0.2 in ./venv/lib/python3.10/site-packages (from anyio>=3.1.0->jupyter-server>=1.0->jupyter-server-proxy->cuxfilter-cu11==24.2.*) (1.2.0)\n",
            "Requirement already satisfied: zipp>=0.5 in ./venv/lib/python3.10/site-packages (from importlib-metadata>=4.13.0->dask==2024.1.1->rapids-dask-dependency==24.2.*->dask-cudf-cu11==24.2.*) (3.18.1)\n",
            "Requirement already satisfied: platformdirs>=2.5 in ./venv/lib/python3.10/site-packages (from jupyter-core!=5.0.*,>=4.12->jupyter-server>=1.0->jupyter-server-proxy->cuxfilter-cu11==24.2.*) (4.2.0)\n",
            "Requirement already satisfied: rfc3986-validator>=0.1.1 in ./venv/lib/python3.10/site-packages (from jupyter-events>=0.9.0->jupyter-server>=1.0->jupyter-server-proxy->cuxfilter-cu11==24.2.*) (0.1.1)\n",
            "Requirement already satisfied: rfc3339-validator in ./venv/lib/python3.10/site-packages (from jupyter-events>=0.9.0->jupyter-server>=1.0->jupyter-server-proxy->cuxfilter-cu11==24.2.*) (0.1.4)\n",
            "Requirement already satisfied: python-json-logger>=2.0.4 in ./venv/lib/python3.10/site-packages (from jupyter-events>=0.9.0->jupyter-server>=1.0->jupyter-server-proxy->cuxfilter-cu11==24.2.*) (2.0.7)\n",
            "Requirement already satisfied: referencing in ./venv/lib/python3.10/site-packages (from jupyter-events>=0.9.0->jupyter-server>=1.0->jupyter-server-proxy->cuxfilter-cu11==24.2.*) (0.34.0)\n",
            "Requirement already satisfied: jsonschema[format-nongpl]>=4.18.0 in ./venv/lib/python3.10/site-packages (from jupyter-events>=0.9.0->jupyter-server>=1.0->jupyter-server-proxy->cuxfilter-cu11==24.2.*) (4.21.1)\n",
            "Requirement already satisfied: mistune<4,>=2.0.3 in ./venv/lib/python3.10/site-packages (from nbconvert>=6.4.4->jupyter-server>=1.0->jupyter-server-proxy->cuxfilter-cu11==24.2.*) (3.0.2)\n",
            "Requirement already satisfied: defusedxml in ./venv/lib/python3.10/site-packages (from nbconvert>=6.4.4->jupyter-server>=1.0->jupyter-server-proxy->cuxfilter-cu11==24.2.*) (0.7.1)\n",
            "Requirement already satisfied: tinycss2 in ./venv/lib/python3.10/site-packages (from nbconvert>=6.4.4->jupyter-server>=1.0->jupyter-server-proxy->cuxfilter-cu11==24.2.*) (1.2.1)\n",
            "Requirement already satisfied: jupyterlab-pygments in ./venv/lib/python3.10/site-packages (from nbconvert>=6.4.4->jupyter-server>=1.0->jupyter-server-proxy->cuxfilter-cu11==24.2.*) (0.3.0)\n",
            "Requirement already satisfied: nbclient>=0.5.0 in ./venv/lib/python3.10/site-packages (from nbconvert>=6.4.4->jupyter-server>=1.0->jupyter-server-proxy->cuxfilter-cu11==24.2.*) (0.10.0)\n",
            "Requirement already satisfied: pandocfilters>=1.4.1 in ./venv/lib/python3.10/site-packages (from nbconvert>=6.4.4->jupyter-server>=1.0->jupyter-server-proxy->cuxfilter-cu11==24.2.*) (1.5.1)\n",
            "Requirement already satisfied: beautifulsoup4 in ./venv/lib/python3.10/site-packages (from nbconvert>=6.4.4->jupyter-server>=1.0->jupyter-server-proxy->cuxfilter-cu11==24.2.*) (4.12.3)\n",
            "Requirement already satisfied: fastjsonschema>=2.15 in ./venv/lib/python3.10/site-packages (from nbformat>=5.3.0->jupyter-server>=1.0->jupyter-server-proxy->cuxfilter-cu11==24.2.*) (2.19.1)\n",
            "Requirement already satisfied: ptyprocess in ./venv/lib/python3.10/site-packages (from terminado>=0.8.3->jupyter-server>=1.0->jupyter-server-proxy->cuxfilter-cu11==24.2.*) (0.7.0)\n",
            "Requirement already satisfied: argon2-cffi-bindings in ./venv/lib/python3.10/site-packages (from argon2-cffi->jupyter-server>=1.0->jupyter-server-proxy->cuxfilter-cu11==24.2.*) (21.2.0)\n",
            "Requirement already satisfied: rpds-py>=0.7.1 in ./venv/lib/python3.10/site-packages (from jsonschema[format-nongpl]>=4.18.0->jupyter-events>=0.9.0->jupyter-server>=1.0->jupyter-server-proxy->cuxfilter-cu11==24.2.*) (0.18.0)\n",
            "Requirement already satisfied: jsonschema-specifications>=2023.03.6 in ./venv/lib/python3.10/site-packages (from jsonschema[format-nongpl]>=4.18.0->jupyter-events>=0.9.0->jupyter-server>=1.0->jupyter-server-proxy->cuxfilter-cu11==24.2.*) (2023.12.1)\n",
            "Requirement already satisfied: fqdn in ./venv/lib/python3.10/site-packages (from jsonschema[format-nongpl]>=4.18.0->jupyter-events>=0.9.0->jupyter-server>=1.0->jupyter-server-proxy->cuxfilter-cu11==24.2.*) (1.5.1)\n",
            "Requirement already satisfied: isoduration in ./venv/lib/python3.10/site-packages (from jsonschema[format-nongpl]>=4.18.0->jupyter-events>=0.9.0->jupyter-server>=1.0->jupyter-server-proxy->cuxfilter-cu11==24.2.*) (20.11.0)\n",
            "Requirement already satisfied: jsonpointer>1.13 in ./venv/lib/python3.10/site-packages (from jsonschema[format-nongpl]>=4.18.0->jupyter-events>=0.9.0->jupyter-server>=1.0->jupyter-server-proxy->cuxfilter-cu11==24.2.*) (2.4)\n",
            "Requirement already satisfied: uri-template in ./venv/lib/python3.10/site-packages (from jsonschema[format-nongpl]>=4.18.0->jupyter-events>=0.9.0->jupyter-server>=1.0->jupyter-server-proxy->cuxfilter-cu11==24.2.*) (1.3.0)\n",
            "Requirement already satisfied: webcolors>=1.11 in ./venv/lib/python3.10/site-packages (from jsonschema[format-nongpl]>=4.18.0->jupyter-events>=0.9.0->jupyter-server>=1.0->jupyter-server-proxy->cuxfilter-cu11==24.2.*) (1.13)\n",
            "Requirement already satisfied: cffi>=1.0.1 in ./venv/lib/python3.10/site-packages (from argon2-cffi-bindings->argon2-cffi->jupyter-server>=1.0->jupyter-server-proxy->cuxfilter-cu11==24.2.*) (1.16.0)\n",
            "Requirement already satisfied: soupsieve>1.2 in ./venv/lib/python3.10/site-packages (from beautifulsoup4->nbconvert>=6.4.4->jupyter-server>=1.0->jupyter-server-proxy->cuxfilter-cu11==24.2.*) (2.5)\n",
            "Requirement already satisfied: pycparser in ./venv/lib/python3.10/site-packages (from cffi>=1.0.1->argon2-cffi-bindings->argon2-cffi->jupyter-server>=1.0->jupyter-server-proxy->cuxfilter-cu11==24.2.*) (2.22)\n",
            "Requirement already satisfied: arrow>=0.15.0 in ./venv/lib/python3.10/site-packages (from isoduration->jsonschema[format-nongpl]>=4.18.0->jupyter-events>=0.9.0->jupyter-server>=1.0->jupyter-server-proxy->cuxfilter-cu11==24.2.*) (1.3.0)\n",
            "Requirement already satisfied: types-python-dateutil>=2.8.10 in ./venv/lib/python3.10/site-packages (from arrow>=0.15.0->isoduration->jsonschema[format-nongpl]>=4.18.0->jupyter-events>=0.9.0->jupyter-server>=1.0->jupyter-server-proxy->cuxfilter-cu11==24.2.*) (2.9.0.20240316)\n",
            "Installing collected packages: ptxcompiler-cu11, cuda-python, cubinlinker-cu11, ucx-py-cu11, cupy-cuda11x, treelite, rmm-cu11, dask, pylibraft-cu11, distributed, cuproj-cu11, cudf-cu11, cucim-cu11, rapids-dask-dependency, pylibcugraph-cu11, cuspatial-cu11, dask-cudf-cu11, dask-cuda, raft-dask-cu11, cuml-cu11, cugraph-cu11, cuxfilter-cu11\n",
            "  Attempting uninstall: cuda-python\n",
            "    Found existing installation: cuda-python 12.4.0\n",
            "    Uninstalling cuda-python-12.4.0:\n",
            "      Successfully uninstalled cuda-python-12.4.0\n",
            "  Attempting uninstall: treelite\n",
            "    Found existing installation: treelite 3.9.1\n",
            "    Uninstalling treelite-3.9.1:\n",
            "      Successfully uninstalled treelite-3.9.1\n",
            "  Attempting uninstall: dask\n",
            "    Found existing installation: dask 2023.11.0\n",
            "    Uninstalling dask-2023.11.0:\n",
            "      Successfully uninstalled dask-2023.11.0\n",
            "  Attempting uninstall: distributed\n",
            "    Found existing installation: distributed 2023.11.0\n",
            "    Uninstalling distributed-2023.11.0:\n",
            "      Successfully uninstalled distributed-2023.11.0\n",
            "  Attempting uninstall: rapids-dask-dependency\n",
            "    Found existing installation: rapids-dask-dependency 23.12.1\n",
            "    Uninstalling rapids-dask-dependency-23.12.1:\n",
            "      Successfully uninstalled rapids-dask-dependency-23.12.1\n",
            "  Attempting uninstall: dask-cuda\n",
            "    Found existing installation: dask-cuda 23.12.0\n",
            "    Uninstalling dask-cuda-23.12.0:\n",
            "      Successfully uninstalled dask-cuda-23.12.0\n",
            "\u001b[31mERROR: pip's dependency resolver does not currently take into account all the packages that are installed. This behaviour is the source of the following dependency conflicts.\n",
            "rmm-cu12 23.12.0 requires cuda-python<13.0a0,>=12.0, but you have cuda-python 11.8.3 which is incompatible.\n",
            "raft-dask-cu12 23.12.0 requires dask-cuda==23.12.*, but you have dask-cuda 24.2.0 which is incompatible.\n",
            "raft-dask-cu12 23.12.0 requires rapids-dask-dependency==23.12.*, but you have rapids-dask-dependency 24.2.0 which is incompatible.\n",
            "pylibraft-cu12 23.12.0 requires cuda-python<13.0a0,>=12.0, but you have cuda-python 11.8.3 which is incompatible.\n",
            "dask-cudf-cu12 23.12.0 requires rapids-dask-dependency==23.12.*, but you have rapids-dask-dependency 24.2.0 which is incompatible.\n",
            "cuml-cu12 23.12.0 requires dask-cuda==23.12.*, but you have dask-cuda 24.2.0 which is incompatible.\n",
            "cuml-cu12 23.12.0 requires rapids-dask-dependency==23.12.*, but you have rapids-dask-dependency 24.2.0 which is incompatible.\n",
            "cuml-cu12 23.12.0 requires treelite==3.9.1, but you have treelite 4.0.0 which is incompatible.\n",
            "cugraph-cu12 23.12.0 requires dask-cuda==23.12.*, but you have dask-cuda 24.2.0 which is incompatible.\n",
            "cugraph-cu12 23.12.0 requires rapids-dask-dependency==23.12.*, but you have rapids-dask-dependency 24.2.0 which is incompatible.\n",
            "cudf-cu12 23.12.1 requires cuda-python<13.0a0,>=12.0, but you have cuda-python 11.8.3 which is incompatible.\u001b[0m\u001b[31m\n",
            "\u001b[0mSuccessfully installed cubinlinker-cu11-0.3.0.post1 cucim-cu11-24.2.0 cuda-python-11.8.3 cudf-cu11-24.2.2 cugraph-cu11-24.2.0 cuml-cu11-24.2.0 cuproj-cu11-24.2.0 cupy-cuda11x-13.0.0 cuspatial-cu11-24.2.0 cuxfilter-cu11-24.2.0 dask-2024.1.1 dask-cuda-24.2.0 dask-cudf-cu11-24.2.2 distributed-2024.1.1 ptxcompiler-cu11-0.8.1.post1 pylibcugraph-cu11-24.2.0 pylibraft-cu11-24.2.0 raft-dask-cu11-24.2.0 rapids-dask-dependency-24.2.0 rmm-cu11-24.2.0 treelite-4.0.0 ucx-py-cu11-0.36.0\n",
            "\n",
            "\u001b[1m[\u001b[0m\u001b[34;49mnotice\u001b[0m\u001b[1;39;49m]\u001b[0m\u001b[39;49m A new release of pip available: \u001b[0m\u001b[31;49m22.2.1\u001b[0m\u001b[39;49m -> \u001b[0m\u001b[32;49m24.0\u001b[0m\n",
            "\u001b[1m[\u001b[0m\u001b[34;49mnotice\u001b[0m\u001b[1;39;49m]\u001b[0m\u001b[39;49m To update, run: \u001b[0m\u001b[32;49mpip install --upgrade pip\u001b[0m\n"
          ]
        }
      ],
      "source": [
        "# !git clone https://github.com/rapidsai/rapidsai-csp-utils.git\n",
        "# !python rapidsai-csp-utils/colab/pip-install.py\n",
        "\n",
        "!pip install \\\n",
        "    --extra-index-url=https://pypi.nvidia.com \\\n",
        "    cudf-cu11==24.2.* dask-cudf-cu11==24.2.* cuml-cu11==24.2.* \\\n",
        "    cugraph-cu11==24.2.* cuspatial-cu11==24.2.* cuproj-cu11==24.2.* \\\n",
        "    cuxfilter-cu11==24.2.* cucim-cu11==24.2.* pylibraft-cu11==24.2.* \\\n",
        "    raft-dask-cu11==24.2.*\n",
        "\n",
        "\n"
      ]
    },
    {
      "cell_type": "code",
      "execution_count": 7,
      "metadata": {
        "colab": {
          "base_uri": "https://localhost:8080/",
          "height": 36
        },
        "id": "MeGIGNHbXiIw",
        "outputId": "6d68d31d-207f-4e59-e683-d932ccf28934"
      },
      "outputs": [
        {
          "data": {
            "text/plain": [
              "'23.12.01'"
            ]
          },
          "execution_count": 7,
          "metadata": {},
          "output_type": "execute_result"
        }
      ],
      "source": [
        "import cudf\n",
        "cudf.__version__"
      ]
    },
    {
      "cell_type": "code",
      "execution_count": 1,
      "metadata": {
        "colab": {
          "base_uri": "https://localhost:8080/",
          "height": 36
        },
        "id": "gNhcKVkLXkv4",
        "outputId": "1b5aad41-1b67-4580-8206-0786119199c7"
      },
      "outputs": [
        {
          "name": "stderr",
          "output_type": "stream",
          "text": [
            "/home/g4/ML shit/venv/lib/python3.10/site-packages/cupy/_environment.py:487: UserWarning: \n",
            "--------------------------------------------------------------------------------\n",
            "\n",
            "  CuPy may not function correctly because multiple CuPy packages are installed\n",
            "  in your environment:\n",
            "\n",
            "    cupy-cuda11x, cupy-cuda12x\n",
            "\n",
            "  Follow these steps to resolve this issue:\n",
            "\n",
            "    1. For all packages listed above, run the following command to remove all\n",
            "       existing CuPy installations:\n",
            "\n",
            "         $ pip uninstall <package_name>\n",
            "\n",
            "      If you previously installed CuPy via conda, also run the following:\n",
            "\n",
            "         $ conda uninstall cupy\n",
            "\n",
            "    2. Install the appropriate CuPy package.\n",
            "       Refer to the Installation Guide for detailed instructions.\n",
            "\n",
            "         https://docs.cupy.dev/en/stable/install.html\n",
            "\n",
            "--------------------------------------------------------------------------------\n",
            "\n",
            "  warnings.warn(f'''\n"
          ]
        },
        {
          "data": {
            "text/plain": [
              "'24.02.00'"
            ]
          },
          "execution_count": 1,
          "metadata": {},
          "output_type": "execute_result"
        }
      ],
      "source": [
        "import cuml\n",
        "cuml.__version__"
      ]
    },
    {
      "cell_type": "code",
      "execution_count": null,
      "metadata": {
        "colab": {
          "base_uri": "https://localhost:8080/"
        },
        "id": "DV1G1tJSRlY1",
        "outputId": "23a83060-f243-4da1-db1a-54a00c67731f"
      },
      "outputs": [
        {
          "name": "stderr",
          "output_type": "stream",
          "text": [
            "/usr/local/lib/python3.10/dist-packages/cuml/internals/api_decorators.py:188: UserWarning: To use pickling first train using float32 data to fit the estimator\n",
            "  ret = func(*args, **kwargs)\n"
          ]
        },
        {
          "name": "stdout",
          "output_type": "stream",
          "text": [
            "Mean Squared Error (MSE) for Random Forest (GPU): 0.1077971791738604\n",
            "R-squared (R2) for Random Forest (GPU): 0.9915964931198051\n"
          ]
        }
      ],
      "source": [
        "import cudf\n",
        "import numpy as np\n",
        "from cuml.ensemble import RandomForestRegressor\n",
        "from cuml.common.device_selection import using_device_type\n",
        "from cuml.common.device_selection import set_global_device_type, get_global_device_type\n",
        "\n",
        "from sklearn.model_selection import train_test_split\n",
        "from sklearn.metrics import mean_squared_error, r2_score\n",
        "import pandas as pd\n",
        "import cupy as cp\n",
        "set_global_device_type('gpu')\n",
        "\n",
        "# Read the dataset\n",
        "file_path = '/content/drive/Shareddrives/Machine_Learning Data cleaning/north_Final.csv'\n",
        "df = pd.read_csv(file_path)\n",
        "\n",
        "# Define features and target variable\n",
        "X = df.drop(columns=['Air temperature (instant) in celsius degrees'])\n",
        "y = df['Air temperature (instant) in celsius degrees']\n",
        "\n",
        "# Convert data to cuDF format\n",
        "X_cudf = cudf.DataFrame.from_pandas(X)\n",
        "y_cudf = cudf.Series(y)\n",
        "\n",
        "# Split data into train and test sets\n",
        "X_train, X_test, y_train, y_test = train_test_split(X_cudf, y_cudf, test_size=0.2, random_state=42)\n",
        "\n",
        "# Train the random forest model\n",
        "model = RandomForestRegressor(n_estimators=100)\n",
        "# with using_device_type('gpu'):\n",
        "model.fit(X_train, y_train)\n",
        "\n",
        "# Make predictions\n",
        "y_pred = model.predict(X_test)\n",
        "\n",
        "# Convert predictions to pandas DataFrame\n",
        "y_pred_pd = y_pred.to_pandas()\n",
        "\n",
        "# Evaluate the model\n",
        "mse = mean_squared_error(cp.asnumpy(y_test), y_pred_pd.values)\n",
        "r2 = r2_score(cp.asnumpy(y_test), y_pred_pd.values)\n",
        "\n",
        "print(\"Mean Squared Error (MSE) for Random Forest (GPU):\", mse)\n",
        "print(\"R-squared (R2) for Random Forest (GPU):\", r2)\n"
      ]
    },
    {
      "cell_type": "markdown",
      "metadata": {},
      "source": [
        "## with n_estimators = 200"
      ]
    },
    {
      "cell_type": "code",
      "execution_count": 9,
      "metadata": {},
      "outputs": [
        {
          "name": "stderr",
          "output_type": "stream",
          "text": [
            "/home/g4/ML shit/venv/lib/python3.10/site-packages/cuml/internals/api_decorators.py:188: UserWarning: To use pickling first train using float32 data to fit the estimator\n",
            "  ret = func(*args, **kwargs)\n"
          ]
        },
        {
          "name": "stdout",
          "output_type": "stream",
          "text": [
            "Mean Squared Error (MSE) for Random Forest (GPU): 0.10782241079127787\n",
            "R-squared (R2) for Random Forest (GPU): 0.9915945261474577\n"
          ]
        }
      ],
      "source": [
        "import cudf\n",
        "import numpy as np\n",
        "from cuml.ensemble import RandomForestRegressor\n",
        "from cuml.common.device_selection import using_device_type\n",
        "from cuml.common.device_selection import set_global_device_type, get_global_device_type\n",
        "\n",
        "from sklearn.model_selection import train_test_split\n",
        "from sklearn.metrics import mean_squared_error, r2_score\n",
        "import pandas as pd\n",
        "import cupy as cp\n",
        "set_global_device_type('gpu')\n",
        "\n",
        "# Read the dataset\n",
        "file_path = 'north_Final.csv'\n",
        "df = pd.read_csv(file_path)\n",
        "\n",
        "# Define features and target variable\n",
        "X = df.drop(columns=['Air temperature (instant) in celsius degrees'])\n",
        "y = df['Air temperature (instant) in celsius degrees']\n",
        "\n",
        "# Convert data to cuDF format\n",
        "X_cudf = cudf.DataFrame.from_pandas(X)\n",
        "y_cudf = cudf.Series(y)\n",
        "\n",
        "# Split data into train and test sets\n",
        "X_train, X_test, y_train, y_test = train_test_split(X_cudf, y_cudf, test_size=0.2, random_state=42)\n",
        "\n",
        "# Train the random forest model\n",
        "model = RandomForestRegressor(n_estimators=200)\n",
        "# with using_device_type('gpu'):\n",
        "model.fit(X_train, y_train)\n",
        "\n",
        "# Make predictions\n",
        "y_pred = model.predict(X_test)\n",
        "\n",
        "# Convert predictions to pandas DataFrame\n",
        "y_pred_pd = y_pred.to_pandas()\n",
        "\n",
        "# Evaluate the model\n",
        "mse = mean_squared_error(cp.asnumpy(y_test), y_pred_pd.values)\n",
        "r2 = r2_score(cp.asnumpy(y_test), y_pred_pd.values)\n",
        "\n",
        "print(\"Mean Squared Error (MSE) for Random Forest (GPU):\", mse)\n",
        "print(\"R-squared (R2) for Random Forest (GPU):\", r2)\n"
      ]
    },
    {
      "cell_type": "markdown",
      "metadata": {
        "id": "ayJ2WVh7UKv-"
      },
      "source": [
        "# **5. Neural Network Regression model with 30 epochs , 64 dense layers and non linear activation**"
      ]
    },
    {
      "cell_type": "code",
      "execution_count": 2,
      "metadata": {
        "colab": {
          "base_uri": "https://localhost:8080/"
        },
        "id": "lwps5_mJVees",
        "outputId": "a993f19c-ea58-4c5a-b321-978c3820a7ee"
      },
      "outputs": [
        {
          "name": "stderr",
          "output_type": "stream",
          "text": [
            "2024-04-07 22:53:50.644396: I tensorflow/core/platform/cpu_feature_guard.cc:210] This TensorFlow binary is optimized to use available CPU instructions in performance-critical operations.\n",
            "To enable the following instructions: AVX2 FMA, in other operations, rebuild TensorFlow with the appropriate compiler flags.\n",
            "2024-04-07 22:53:51.433669: W tensorflow/compiler/tf2tensorrt/utils/py_utils.cc:38] TF-TRT Warning: Could not find TensorRT\n",
            "2024-04-07 22:54:15.520121: I external/local_xla/xla/stream_executor/cuda/cuda_executor.cc:998] successful NUMA node read from SysFS had negative value (-1), but there must be at least one NUMA node, so returning NUMA node zero. See more at https://github.com/torvalds/linux/blob/v6.0/Documentation/ABI/testing/sysfs-bus-pci#L344-L355\n",
            "2024-04-07 22:54:15.520628: I external/local_xla/xla/stream_executor/cuda/cuda_executor.cc:998] successful NUMA node read from SysFS had negative value (-1), but there must be at least one NUMA node, so returning NUMA node zero. See more at https://github.com/torvalds/linux/blob/v6.0/Documentation/ABI/testing/sysfs-bus-pci#L344-L355\n",
            "2024-04-07 22:54:15.522128: W tensorflow/core/common_runtime/gpu/gpu_device.cc:2251] Cannot dlopen some GPU libraries. Please make sure the missing libraries mentioned above are installed properly if you would like to use GPU. Follow the guide at https://www.tensorflow.org/install/gpu for how to download and setup the required libraries for your platform.\n",
            "Skipping registering GPU devices...\n"
          ]
        },
        {
          "name": "stdout",
          "output_type": "stream",
          "text": [
            "Epoch 1/30\n",
            "209808/209808 - 116s - 553us/step - loss: 0.8098\n",
            "Epoch 2/30\n",
            "209808/209808 - 110s - 522us/step - loss: 0.3340\n",
            "Epoch 3/30\n",
            "209808/209808 - 112s - 536us/step - loss: 0.3067\n",
            "Epoch 4/30\n",
            "209808/209808 - 106s - 504us/step - loss: 0.2894\n",
            "Epoch 5/30\n",
            "209808/209808 - 115s - 550us/step - loss: 0.2792\n",
            "Epoch 6/30\n",
            "209808/209808 - 127s - 606us/step - loss: 0.2731\n",
            "Epoch 7/30\n",
            "209808/209808 - 106s - 505us/step - loss: 0.2683\n",
            "Epoch 8/30\n",
            "209808/209808 - 124s - 593us/step - loss: 0.2631\n",
            "Epoch 9/30\n",
            "209808/209808 - 112s - 534us/step - loss: 0.2588\n",
            "Epoch 10/30\n",
            "209808/209808 - 113s - 537us/step - loss: 0.2546\n",
            "Epoch 11/30\n",
            "209808/209808 - 115s - 546us/step - loss: 0.2519\n",
            "Epoch 12/30\n",
            "209808/209808 - 113s - 540us/step - loss: 0.2476\n",
            "Epoch 13/30\n",
            "209808/209808 - 113s - 538us/step - loss: 0.2448\n",
            "Epoch 14/30\n",
            "209808/209808 - 105s - 500us/step - loss: 0.2415\n",
            "Epoch 15/30\n",
            "209808/209808 - 111s - 530us/step - loss: 0.2395\n",
            "Epoch 16/30\n",
            "209808/209808 - 115s - 550us/step - loss: 0.2377\n",
            "Epoch 17/30\n",
            "209808/209808 - 110s - 524us/step - loss: 0.2360\n",
            "Epoch 18/30\n",
            "209808/209808 - 118s - 564us/step - loss: 0.2358\n",
            "Epoch 19/30\n",
            "209808/209808 - 115s - 547us/step - loss: 0.2333\n",
            "Epoch 20/30\n",
            "209808/209808 - 105s - 502us/step - loss: 0.2319\n",
            "Epoch 21/30\n",
            "209808/209808 - 124s - 589us/step - loss: 0.2308\n",
            "Epoch 22/30\n",
            "209808/209808 - 127s - 607us/step - loss: 0.2298\n",
            "Epoch 23/30\n",
            "209808/209808 - 108s - 514us/step - loss: 0.2284\n",
            "Epoch 24/30\n",
            "209808/209808 - 109s - 519us/step - loss: 0.2282\n",
            "Epoch 25/30\n",
            "209808/209808 - 106s - 505us/step - loss: 0.2267\n",
            "Epoch 26/30\n",
            "209808/209808 - 121s - 578us/step - loss: 0.2259\n",
            "Epoch 27/30\n",
            "209808/209808 - 111s - 529us/step - loss: 0.2250\n",
            "Epoch 28/30\n",
            "209808/209808 - 102s - 486us/step - loss: 0.2239\n",
            "Epoch 29/30\n",
            "209808/209808 - 112s - 533us/step - loss: 0.2236\n",
            "Epoch 30/30\n",
            "209808/209808 - 105s - 500us/step - loss: 0.2229\n",
            "\u001b[1m52452/52452\u001b[0m \u001b[32m━━━━━━━━━━━━━━━━━━━━\u001b[0m\u001b[37m\u001b[0m \u001b[1m32s\u001b[0m 614us/step\n",
            "Mean Squared Error (MSE) for Perceptron Neural Network: 0.21225622438259276\n",
            "R-squared (R2) for Perceptron Neural Network: 0.9834532159780687\n"
          ]
        }
      ],
      "source": [
        "import tensorflow as tf\n",
        "from sklearn.model_selection import train_test_split\n",
        "from sklearn.metrics import mean_squared_error, r2_score\n",
        "import pandas as pd\n",
        "import numpy as np\n",
        "\n",
        "# Read the dataset\n",
        "file_path = 'north_Final.csv'\n",
        "df = pd.read_csv(file_path)\n",
        "\n",
        "# Define features and target variable\n",
        "X = df.drop(columns=['Air temperature (instant) in celsius degrees'])  # Features\n",
        "y = df['Air temperature (instant) in celsius degrees']  # Target variable\n",
        "\n",
        "# Split data into train and test sets\n",
        "X_train, X_test, y_train, y_test = train_test_split(X, y, test_size=0.2, random_state=42)\n",
        "\n",
        "\n",
        "# Build the neural network model\n",
        "model = tf.keras.Sequential([\n",
        "    tf.keras.layers.Input(shape=(X_train.shape[1],)),\n",
        "    tf.keras.layers.Dense(64, activation='relu'),\n",
        "    tf.keras.layers.Dense(1)\n",
        "])\n",
        "\n",
        "# Compile the model\n",
        "model.compile(optimizer='adam', loss='mse')\n",
        "\n",
        "# Train the model\n",
        "model.fit(X_train, y_train, epochs=30, batch_size=32, verbose=2)\n",
        "\n",
        "# Make predictions\n",
        "y_pred = model.predict(X_test).flatten()\n",
        "\n",
        "# Evaluate the model\n",
        "mse = mean_squared_error(y_test, y_pred)\n",
        "r2 = r2_score(y_test, y_pred)\n",
        "\n",
        "print(\"Mean Squared Error (MSE) for Perceptron Neural Network:\", mse)\n",
        "print(\"R-squared (R2) for Perceptron Neural Network:\", r2)\n"
      ]
    },
    {
      "cell_type": "markdown",
      "metadata": {
        "id": "NzAFfHqMDtfk"
      },
      "source": [
        "# **Classification**\n",
        "## ***Binning the label in order to turn it into a classifcation problem***"
      ]
    },
    {
      "cell_type": "code",
      "execution_count": 5,
      "metadata": {
        "colab": {
          "base_uri": "https://localhost:8080/"
        },
        "id": "hEi8rS7ND1bq",
        "outputId": "4c0c14e7-6e03-458e-c8d9-9855928b47cb"
      },
      "outputs": [
        {
          "name": "stdout",
          "output_type": "stream",
          "text": [
            "Warm         6683929\n",
            "Hot          1550142\n",
            "Moderate      155500\n",
            "Cold            2561\n",
            "Very Hot         152\n",
            "Very Cold         15\n",
            "Name: Temperature_Category, dtype: int64\n"
          ]
        }
      ],
      "source": [
        "import pandas as pd\n",
        "\n",
        "# Load your dataset\n",
        "# file_path = 'north_Final_sampled.csv'\n",
        "file_path = 'north_Final.csv'\n",
        "\n",
        "df = pd.read_csv(file_path)\n",
        "\n",
        "# Define bins and labels\n",
        "bins = [-10, 0, 10, 20, 30, 40, 50]\n",
        "labels = ['Very Cold', 'Cold', 'Moderate', 'Warm', 'Hot', 'Very Hot']\n",
        "\n",
        "# Bin the target variable\n",
        "df['Temperature_Category'] = pd.cut(df['Air temperature (instant) in celsius degrees'], bins=bins, labels=labels)\n",
        "df.drop(columns=['Air temperature (instant) in celsius degrees'], inplace=True)\n",
        "\n",
        "# Check the distribution of categories\n",
        "print(df['Temperature_Category'].value_counts())\n",
        "\n",
        "df.to_csv('north_Final_classfied.csv')\n"
      ]
    },
    {
      "cell_type": "markdown",
      "metadata": {
        "id": "ARulky_UqtIx"
      },
      "source": [
        "## **Neural Network Model With a Softmax Layer**"
      ]
    },
    {
      "cell_type": "code",
      "execution_count": 7,
      "metadata": {
        "colab": {
          "base_uri": "https://localhost:8080/"
        },
        "id": "jln_9jcWqs5j",
        "outputId": "18b154e0-950e-4e63-dc8a-9336bad29d8c"
      },
      "outputs": [
        {
          "name": "stderr",
          "output_type": "stream",
          "text": [
            "2024-04-07 22:04:36.950448: I tensorflow/core/platform/cpu_feature_guard.cc:210] This TensorFlow binary is optimized to use available CPU instructions in performance-critical operations.\n",
            "To enable the following instructions: AVX2 FMA, in other operations, rebuild TensorFlow with the appropriate compiler flags.\n",
            "2024-04-07 22:04:37.977360: W tensorflow/compiler/tf2tensorrt/utils/py_utils.cc:38] TF-TRT Warning: Could not find TensorRT\n",
            "2024-04-07 22:04:38.638767: I external/local_xla/xla/stream_executor/cuda/cuda_executor.cc:998] successful NUMA node read from SysFS had negative value (-1), but there must be at least one NUMA node, so returning NUMA node zero. See more at https://github.com/torvalds/linux/blob/v6.0/Documentation/ABI/testing/sysfs-bus-pci#L344-L355\n",
            "2024-04-07 22:04:38.639314: I external/local_xla/xla/stream_executor/cuda/cuda_executor.cc:998] successful NUMA node read from SysFS had negative value (-1), but there must be at least one NUMA node, so returning NUMA node zero. See more at https://github.com/torvalds/linux/blob/v6.0/Documentation/ABI/testing/sysfs-bus-pci#L344-L355\n",
            "2024-04-07 22:04:38.650248: W tensorflow/core/common_runtime/gpu/gpu_device.cc:2251] Cannot dlopen some GPU libraries. Please make sure the missing libraries mentioned above are installed properly if you would like to use GPU. Follow the guide at https://www.tensorflow.org/install/gpu for how to download and setup the required libraries for your platform.\n",
            "Skipping registering GPU devices...\n"
          ]
        },
        {
          "name": "stdout",
          "output_type": "stream",
          "text": [
            "No GPU available. Training on CPU...\n",
            "Label Encoding Mapping:\n",
            "Cold: 0\n",
            "Hot: 1\n",
            "Moderate: 2\n",
            "Very Cold: 3\n",
            "Very Hot: 4\n",
            "Warm: 5\n"
          ]
        },
        {
          "name": "stderr",
          "output_type": "stream",
          "text": [
            "2024-04-07 22:05:04.631257: I external/local_xla/xla/stream_executor/cuda/cuda_executor.cc:998] successful NUMA node read from SysFS had negative value (-1), but there must be at least one NUMA node, so returning NUMA node zero. See more at https://github.com/torvalds/linux/blob/v6.0/Documentation/ABI/testing/sysfs-bus-pci#L344-L355\n",
            "2024-04-07 22:05:04.632375: I external/local_xla/xla/stream_executor/cuda/cuda_executor.cc:998] successful NUMA node read from SysFS had negative value (-1), but there must be at least one NUMA node, so returning NUMA node zero. See more at https://github.com/torvalds/linux/blob/v6.0/Documentation/ABI/testing/sysfs-bus-pci#L344-L355\n",
            "2024-04-07 22:05:04.633135: W tensorflow/core/common_runtime/gpu/gpu_device.cc:2251] Cannot dlopen some GPU libraries. Please make sure the missing libraries mentioned above are installed properly if you would like to use GPU. Follow the guide at https://www.tensorflow.org/install/gpu for how to download and setup the required libraries for your platform.\n",
            "Skipping registering GPU devices...\n"
          ]
        },
        {
          "name": "stdout",
          "output_type": "stream",
          "text": [
            "Epoch 1/10\n"
          ]
        },
        {
          "name": "stderr",
          "output_type": "stream",
          "text": [
            "2024-04-07 22:05:05.279083: W external/local_tsl/tsl/framework/cpu_allocator_impl.cc:83] Allocation of 778805324 exceeds 10% of free system memory.\n"
          ]
        },
        {
          "name": "stdout",
          "output_type": "stream",
          "text": [
            "209808/209808 - 116s - 551us/step - accuracy: 0.7612 - loss: 483.5031\n",
            "Epoch 2/10\n",
            "209808/209808 - 111s - 529us/step - accuracy: 0.7965 - loss: 0.7006\n",
            "Epoch 3/10\n",
            "209808/209808 - 116s - 554us/step - accuracy: 0.7966 - loss: 0.5986\n",
            "Epoch 4/10\n",
            "209808/209808 - 121s - 575us/step - accuracy: 0.7966 - loss: 0.6166\n",
            "Epoch 5/10\n",
            "209808/209808 - 115s - 549us/step - accuracy: 0.7965 - loss: 0.6177\n",
            "Epoch 6/10\n",
            "209808/209808 - 119s - 568us/step - accuracy: 0.7965 - loss: 0.6070\n",
            "Epoch 7/10\n",
            "209808/209808 - 121s - 579us/step - accuracy: 0.7966 - loss: 0.5969\n",
            "Epoch 8/10\n",
            "209808/209808 - 121s - 577us/step - accuracy: 0.7966 - loss: 0.5902\n",
            "Epoch 9/10\n",
            "209808/209808 - 122s - 579us/step - accuracy: 0.7966 - loss: 0.5948\n",
            "Epoch 10/10\n",
            "209808/209808 - 119s - 567us/step - accuracy: 0.7966 - loss: 0.6047\n",
            "Test Loss: 0.5704593062400818\n",
            "Test Accuracy: 0.796042799949646\n",
            "\u001b[1m52452/52452\u001b[0m \u001b[32m━━━━━━━━━━━━━━━━━━━━\u001b[0m\u001b[37m\u001b[0m \u001b[1m28s\u001b[0m 533us/step\n"
          ]
        },
        {
          "name": "stderr",
          "output_type": "stream",
          "text": [
            "/home/g4/ML shit/venv/lib/python3.10/site-packages/sklearn/metrics/_classification.py:1509: UndefinedMetricWarning: Precision is ill-defined and being set to 0.0 in labels with no predicted samples. Use `zero_division` parameter to control this behavior.\n",
            "  _warn_prf(average, modifier, f\"{metric.capitalize()} is\", len(result))\n"
          ]
        },
        {
          "name": "stdout",
          "output_type": "stream",
          "text": [
            "Precision: 0.7707001955834194\n",
            "Recall: 0.7960428011391395\n",
            "F1-score: 0.7057212545787996\n",
            "Accuracy: 0.7960428011391395\n"
          ]
        }
      ],
      "source": [
        "import tensorflow as tf\n",
        "from sklearn.preprocessing import LabelEncoder\n",
        "from sklearn.model_selection import train_test_split\n",
        "import pandas as pd\n",
        "from sklearn.metrics import precision_score, recall_score, f1_score, accuracy_score\n",
        "from tensorflow.python.client import device_lib\n",
        "\n",
        "# Get list of all available devices\n",
        "local_device_protos = device_lib.list_local_devices()\n",
        "\n",
        "# Check if GPU is available\n",
        "gpu_available = any(device.device_type == 'GPU' for device in local_device_protos)\n",
        "\n",
        "if gpu_available:\n",
        "    print(\"GPU available. Training on GPU...\")\n",
        "else:\n",
        "    print(\"No GPU available. Training on CPU...\")\n",
        "# Read the dataset\n",
        "file_path = 'north_Final_classfied.csv'\n",
        "df = pd.read_csv(file_path)\n",
        "\n",
        "# Define features and target variable\n",
        "X = df.drop(columns=['Temperature_Category'])\n",
        "y = df['Temperature_Category']\n",
        "\n",
        "# Encode the target variable\n",
        "label_encoder = LabelEncoder()\n",
        "y_encoded = label_encoder.fit_transform(y)\n",
        "\n",
        "# Print the mapping of labels to numbers\n",
        "print(\"Label Encoding Mapping:\")\n",
        "for label, number in zip(label_encoder.classes_, label_encoder.transform(label_encoder.classes_)):\n",
        "    print(f\"{label}: {number}\")\n",
        "\n",
        "# Split data into train and test sets\n",
        "X_train, X_test, y_train, y_test = train_test_split(X, y_encoded, test_size=0.2, random_state=42)\n",
        "\n",
        "# Build the neural network model\n",
        "model = tf.keras.Sequential([\n",
        "    tf.keras.layers.Input(shape=(X_train.shape[1],)),\n",
        "    tf.keras.layers.Dense(64, activation='relu'),\n",
        "    tf.keras.layers.Dense(len(label_encoder.classes_), activation='softmax')\n",
        "])\n",
        "\n",
        "# Compile the model\n",
        "model.compile(optimizer='adam', loss='sparse_categorical_crossentropy', metrics=['accuracy'])\n",
        "\n",
        "# Train the model\n",
        "model.fit(X_train, y_train, epochs=10, batch_size=32, verbose=2)\n",
        "\n",
        "# Evaluate the model\n",
        "loss, accuracy = model.evaluate(X_test, y_test, verbose=0)\n",
        "print(\"Test Loss:\", loss)\n",
        "print(\"Test Accuracy:\", accuracy)\n",
        "\n",
        "# Make predictions\n",
        "y_pred = model.predict(X_test)\n",
        "y_pred_classes = y_pred.argmax(axis=1)\n",
        "\n",
        "# Convert encoded labels back to original labels\n",
        "y_test_original = label_encoder.inverse_transform(y_test)\n",
        "y_pred_original = label_encoder.inverse_transform(y_pred_classes)\n",
        "\n",
        "# Calculate precision, recall, and F1-score\n",
        "precision = precision_score(y_test_original, y_pred_original, average='weighted')\n",
        "recall = recall_score(y_test_original, y_pred_original, average='weighted')\n",
        "f1 = f1_score(y_test_original, y_pred_original, average='weighted')\n",
        "\n",
        "# Calculate accuracy\n",
        "accuracy = accuracy_score(y_test_original, y_pred_original)\n",
        "\n",
        "print(\"Precision:\", precision)\n",
        "print(\"Recall:\", recall)\n",
        "print(\"F1-score:\", f1)\n",
        "print(\"Accuracy:\", accuracy)\n"
      ]
    }
  ],
  "metadata": {
    "colab": {
      "provenance": []
    },
    "kernelspec": {
      "display_name": "Python 3",
      "name": "python3"
    },
    "language_info": {
      "codemirror_mode": {
        "name": "ipython",
        "version": 3
      },
      "file_extension": ".py",
      "mimetype": "text/x-python",
      "name": "python",
      "nbconvert_exporter": "python",
      "pygments_lexer": "ipython3",
      "version": "3.10.6"
    }
  },
  "nbformat": 4,
  "nbformat_minor": 0
}
